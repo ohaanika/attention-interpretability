{
  "nbformat": 4,
  "nbformat_minor": 0,
  "metadata": {
    "colab": {
      "name": "retain.ipynb",
      "provenance": [],
      "private_outputs": true,
      "collapsed_sections": [],
      "include_colab_link": true
    },
    "kernelspec": {
      "name": "python3",
      "display_name": "Python 3"
    },
    "accelerator": "GPU"
  },
  "cells": [
    {
      "cell_type": "markdown",
      "metadata": {
        "id": "view-in-github",
        "colab_type": "text"
      },
      "source": [
        "<a href=\"https://colab.research.google.com/github/ohaanika/attention-interpretability/blob/master/retain/retain.ipynb\" target=\"_parent\"><img src=\"https://colab.research.google.com/assets/colab-badge.svg\" alt=\"Open In Colab\"/></a>"
      ]
    },
    {
      "cell_type": "markdown",
      "metadata": {
        "id": "HnH36yyJ9GOx",
        "colab_type": "text"
      },
      "source": [
        "Before running any cells, reset all runtimes and ensure runtime type set to \"GPU\""
      ]
    },
    {
      "cell_type": "code",
      "metadata": {
        "id": "KhAXO3BoYQgT",
        "colab_type": "code",
        "colab": {}
      },
      "source": [
        "!pip install git+https://github.com/avolkov1/keras_experiments/\n",
        "!git clone https://github.com/ohaanika/attention-interpretability.git\n",
        "%cd attention-interpretability/retain"
      ],
      "execution_count": 0,
      "outputs": []
    },
    {
      "cell_type": "code",
      "metadata": {
        "id": "Ma3o-5LFNUqw",
        "colab_type": "code",
        "colab": {}
      },
      "source": [
        "#!python3 retain_preprocess.py"
      ],
      "execution_count": 0,
      "outputs": []
    },
    {
      "cell_type": "code",
      "metadata": {
        "id": "xyHAz1-iYccB",
        "colab_type": "code",
        "colab": {}
      },
      "source": [
        "!python3 retain_train.py --epochs=7"
      ],
      "execution_count": 0,
      "outputs": []
    },
    {
      "cell_type": "code",
      "metadata": {
        "id": "q1RU9TBDYfHb",
        "colab_type": "code",
        "colab": {}
      },
      "source": [
        "!python3 retain_evaluation.py"
      ],
      "execution_count": 0,
      "outputs": []
    },
    {
      "cell_type": "code",
      "metadata": {
        "id": "KW4aZ4ADYi0b",
        "colab_type": "code",
        "colab": {}
      },
      "source": [
        "!python3 retain_interpretations.py"
      ],
      "execution_count": 0,
      "outputs": []
    }
  ]
}